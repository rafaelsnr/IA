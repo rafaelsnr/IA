{
 "cells": [
  {
   "cell_type": "code",
   "execution_count": 27,
   "metadata": {},
   "outputs": [],
   "source": [
    "import pandas as pd\n",
    "import seaborn as sns\n",
    "import matplotlib.pyplot as plt"
   ]
  },
  {
   "cell_type": "code",
   "execution_count": 28,
   "metadata": {},
   "outputs": [],
   "source": [
    "df_colesterol = pd.read_csv('./datasets/dataset_colesterol.csv')"
   ]
  },
  {
   "cell_type": "code",
   "execution_count": 29,
   "metadata": {},
   "outputs": [
    {
     "name": "stdout",
     "output_type": "stream",
     "text": [
      "<class 'pandas.core.frame.DataFrame'>\n",
      "RangeIndex: 1000 entries, 0 to 999\n",
      "Data columns (total 8 columns):\n",
      " #   Column              Non-Null Count  Dtype  \n",
      "---  ------              --------------  -----  \n",
      " 0   Id                  1000 non-null   int64  \n",
      " 1   Grupo Sanguíneo     996 non-null    object \n",
      " 2   Fumante             997 non-null    object \n",
      " 3   Nível de Atividade  996 non-null    object \n",
      " 4   Idade               997 non-null    float64\n",
      " 5   Peso                997 non-null    float64\n",
      " 6   Altura              997 non-null    float64\n",
      " 7   Colesterol          1000 non-null   float64\n",
      "dtypes: float64(4), int64(1), object(3)\n",
      "memory usage: 62.6+ KB\n"
     ]
    }
   ],
   "source": [
    "df_colesterol.info()"
   ]
  },
  {
   "cell_type": "code",
   "execution_count": 30,
   "metadata": {},
   "outputs": [
    {
     "name": "stdout",
     "output_type": "stream",
     "text": [
      "<class 'pandas.core.frame.DataFrame'>\n",
      "RangeIndex: 1000 entries, 0 to 999\n",
      "Data columns (total 7 columns):\n",
      " #   Column              Non-Null Count  Dtype  \n",
      "---  ------              --------------  -----  \n",
      " 0   Grupo Sanguíneo     996 non-null    object \n",
      " 1   Fumante             997 non-null    object \n",
      " 2   Nível de Atividade  996 non-null    object \n",
      " 3   Idade               997 non-null    float64\n",
      " 4   Peso                997 non-null    float64\n",
      " 5   Altura              997 non-null    float64\n",
      " 6   Colesterol          1000 non-null   float64\n",
      "dtypes: float64(4), object(3)\n",
      "memory usage: 54.8+ KB\n"
     ]
    }
   ],
   "source": [
    "df_colesterol.drop(columns=['Id'], inplace=True)\n",
    "df_colesterol.info()"
   ]
  },
  {
   "cell_type": "code",
   "execution_count": 31,
   "metadata": {},
   "outputs": [
    {
     "name": "stdout",
     "output_type": "stream",
     "text": [
      "<class 'pandas.core.frame.DataFrame'>\n",
      "RangeIndex: 1000 entries, 0 to 999\n",
      "Data columns (total 7 columns):\n",
      " #   Column           Non-Null Count  Dtype  \n",
      "---  ------           --------------  -----  \n",
      " 0   grupo_sanguineo  996 non-null    object \n",
      " 1   fumante          997 non-null    object \n",
      " 2   nivel_atividade  996 non-null    object \n",
      " 3   idade            997 non-null    float64\n",
      " 4   peso             997 non-null    float64\n",
      " 5   altura           997 non-null    float64\n",
      " 6   colesterol       1000 non-null   float64\n",
      "dtypes: float64(4), object(3)\n",
      "memory usage: 54.8+ KB\n"
     ]
    }
   ],
   "source": [
    "df_colesterol.columns = [\n",
    "    'grupo_sanguineo',\n",
    "    'fumante',\n",
    "    'nivel_atividade',\n",
    "    'idade',\n",
    "    'peso',\n",
    "    'altura',\n",
    "    'colesterol'\n",
    "]\n",
    "df_colesterol.info()"
   ]
  },
  {
   "cell_type": "code",
   "execution_count": 32,
   "metadata": {},
   "outputs": [],
   "source": [
    "df_eda = df_colesterol.copy()\n",
    "df_bucketing = df_colesterol.copy()"
   ]
  },
  {
   "cell_type": "markdown",
   "metadata": {},
   "source": [
    "## EDA"
   ]
  },
  {
   "cell_type": "code",
   "execution_count": 33,
   "metadata": {},
   "outputs": [
    {
     "data": {
      "text/html": [
       "<div>\n",
       "<style scoped>\n",
       "    .dataframe tbody tr th:only-of-type {\n",
       "        vertical-align: middle;\n",
       "    }\n",
       "\n",
       "    .dataframe tbody tr th {\n",
       "        vertical-align: top;\n",
       "    }\n",
       "\n",
       "    .dataframe thead th {\n",
       "        text-align: right;\n",
       "    }\n",
       "</style>\n",
       "<table border=\"1\" class=\"dataframe\">\n",
       "  <thead>\n",
       "    <tr style=\"text-align: right;\">\n",
       "      <th></th>\n",
       "      <th>grupo_sanguineo</th>\n",
       "      <th>fumante</th>\n",
       "      <th>nivel_atividade</th>\n",
       "      <th>idade</th>\n",
       "      <th>peso</th>\n",
       "      <th>altura</th>\n",
       "      <th>colesterol</th>\n",
       "    </tr>\n",
       "  </thead>\n",
       "  <tbody>\n",
       "    <tr>\n",
       "      <th>0</th>\n",
       "      <td>B</td>\n",
       "      <td>Sim</td>\n",
       "      <td>Baixo</td>\n",
       "      <td>33.0</td>\n",
       "      <td>85.1</td>\n",
       "      <td>186.0</td>\n",
       "      <td>199.63</td>\n",
       "    </tr>\n",
       "    <tr>\n",
       "      <th>1</th>\n",
       "      <td>A</td>\n",
       "      <td>Não</td>\n",
       "      <td>Moderado</td>\n",
       "      <td>68.0</td>\n",
       "      <td>105.0</td>\n",
       "      <td>184.0</td>\n",
       "      <td>236.98</td>\n",
       "    </tr>\n",
       "    <tr>\n",
       "      <th>2</th>\n",
       "      <td>O</td>\n",
       "      <td>Não</td>\n",
       "      <td>Alto</td>\n",
       "      <td>25.0</td>\n",
       "      <td>64.8</td>\n",
       "      <td>180.0</td>\n",
       "      <td>161.79</td>\n",
       "    </tr>\n",
       "    <tr>\n",
       "      <th>3</th>\n",
       "      <td>A</td>\n",
       "      <td>Não</td>\n",
       "      <td>Alto</td>\n",
       "      <td>43.0</td>\n",
       "      <td>120.2</td>\n",
       "      <td>167.0</td>\n",
       "      <td>336.24</td>\n",
       "    </tr>\n",
       "    <tr>\n",
       "      <th>4</th>\n",
       "      <td>AB</td>\n",
       "      <td>Não</td>\n",
       "      <td>Baixo</td>\n",
       "      <td>79.0</td>\n",
       "      <td>88.5</td>\n",
       "      <td>175.0</td>\n",
       "      <td>226.23</td>\n",
       "    </tr>\n",
       "    <tr>\n",
       "      <th>5</th>\n",
       "      <td>B</td>\n",
       "      <td>Não</td>\n",
       "      <td>Baixo</td>\n",
       "      <td>68.0</td>\n",
       "      <td>66.8</td>\n",
       "      <td>170.0</td>\n",
       "      <td>185.31</td>\n",
       "    </tr>\n",
       "    <tr>\n",
       "      <th>6</th>\n",
       "      <td>A</td>\n",
       "      <td>Sim</td>\n",
       "      <td>Baixo</td>\n",
       "      <td>60.0</td>\n",
       "      <td>117.3</td>\n",
       "      <td>181.0</td>\n",
       "      <td>289.33</td>\n",
       "    </tr>\n",
       "    <tr>\n",
       "      <th>7</th>\n",
       "      <td>O</td>\n",
       "      <td>Sim</td>\n",
       "      <td>Moderado</td>\n",
       "      <td>35.0</td>\n",
       "      <td>86.9</td>\n",
       "      <td>174.0</td>\n",
       "      <td>216.48</td>\n",
       "    </tr>\n",
       "    <tr>\n",
       "      <th>8</th>\n",
       "      <td>O</td>\n",
       "      <td>Não</td>\n",
       "      <td>Baixo</td>\n",
       "      <td>62.0</td>\n",
       "      <td>81.3</td>\n",
       "      <td>166.0</td>\n",
       "      <td>235.30</td>\n",
       "    </tr>\n",
       "    <tr>\n",
       "      <th>9</th>\n",
       "      <td>B</td>\n",
       "      <td>Sim</td>\n",
       "      <td>Alto</td>\n",
       "      <td>44.0</td>\n",
       "      <td>32.7</td>\n",
       "      <td>165.0</td>\n",
       "      <td>97.79</td>\n",
       "    </tr>\n",
       "  </tbody>\n",
       "</table>\n",
       "</div>"
      ],
      "text/plain": [
       "  grupo_sanguineo fumante nivel_atividade  idade   peso  altura  colesterol\n",
       "0               B     Sim           Baixo   33.0   85.1   186.0      199.63\n",
       "1               A     Não        Moderado   68.0  105.0   184.0      236.98\n",
       "2               O     Não            Alto   25.0   64.8   180.0      161.79\n",
       "3               A     Não            Alto   43.0  120.2   167.0      336.24\n",
       "4              AB     Não           Baixo   79.0   88.5   175.0      226.23\n",
       "5               B     Não           Baixo   68.0   66.8   170.0      185.31\n",
       "6               A     Sim           Baixo   60.0  117.3   181.0      289.33\n",
       "7               O     Sim        Moderado   35.0   86.9   174.0      216.48\n",
       "8               O     Não           Baixo   62.0   81.3   166.0      235.30\n",
       "9               B     Sim            Alto   44.0   32.7   165.0       97.79"
      ]
     },
     "execution_count": 33,
     "metadata": {},
     "output_type": "execute_result"
    }
   ],
   "source": [
    "df_eda.head(10)"
   ]
  },
  {
   "cell_type": "code",
   "execution_count": 34,
   "metadata": {},
   "outputs": [
    {
     "data": {
      "text/plain": [
       "array(['B', 'A', 'O', 'AB', nan], dtype=object)"
      ]
     },
     "execution_count": 34,
     "metadata": {},
     "output_type": "execute_result"
    }
   ],
   "source": [
    "df_eda.grupo_sanguineo.unique()"
   ]
  },
  {
   "cell_type": "code",
   "execution_count": 35,
   "metadata": {},
   "outputs": [
    {
     "data": {
      "text/plain": [
       "array(['Sim', 'Não', nan], dtype=object)"
      ]
     },
     "execution_count": 35,
     "metadata": {},
     "output_type": "execute_result"
    }
   ],
   "source": [
    "df_eda.fumante.unique()"
   ]
  },
  {
   "cell_type": "code",
   "execution_count": 36,
   "metadata": {},
   "outputs": [
    {
     "data": {
      "text/plain": [
       "array(['Baixo', 'Moderado', 'Alto', nan], dtype=object)"
      ]
     },
     "execution_count": 36,
     "metadata": {},
     "output_type": "execute_result"
    }
   ],
   "source": [
    "df_eda.nivel_atividade.unique()"
   ]
  },
  {
   "cell_type": "code",
   "execution_count": 37,
   "metadata": {},
   "outputs": [
    {
     "data": {
      "text/plain": [
       "grupo_sanguineo    4\n",
       "fumante            3\n",
       "nivel_atividade    4\n",
       "idade              3\n",
       "peso               3\n",
       "altura             3\n",
       "colesterol         0\n",
       "dtype: int64"
      ]
     },
     "execution_count": 37,
     "metadata": {},
     "output_type": "execute_result"
    }
   ],
   "source": [
    "df_eda.isna().sum()"
   ]
  },
  {
   "cell_type": "code",
   "execution_count": 38,
   "metadata": {},
   "outputs": [
    {
     "data": {
      "text/html": [
       "<div>\n",
       "<style scoped>\n",
       "    .dataframe tbody tr th:only-of-type {\n",
       "        vertical-align: middle;\n",
       "    }\n",
       "\n",
       "    .dataframe tbody tr th {\n",
       "        vertical-align: top;\n",
       "    }\n",
       "\n",
       "    .dataframe thead th {\n",
       "        text-align: right;\n",
       "    }\n",
       "</style>\n",
       "<table border=\"1\" class=\"dataframe\">\n",
       "  <thead>\n",
       "    <tr style=\"text-align: right;\">\n",
       "      <th></th>\n",
       "      <th>idade</th>\n",
       "      <th>peso</th>\n",
       "      <th>altura</th>\n",
       "      <th>colesterol</th>\n",
       "    </tr>\n",
       "  </thead>\n",
       "  <tbody>\n",
       "    <tr>\n",
       "      <th>count</th>\n",
       "      <td>997.000000</td>\n",
       "      <td>997.000000</td>\n",
       "      <td>997.000000</td>\n",
       "      <td>1000.000000</td>\n",
       "    </tr>\n",
       "    <tr>\n",
       "      <th>mean</th>\n",
       "      <td>49.206620</td>\n",
       "      <td>76.496690</td>\n",
       "      <td>174.889669</td>\n",
       "      <td>199.453260</td>\n",
       "    </tr>\n",
       "    <tr>\n",
       "      <th>std</th>\n",
       "      <td>17.476704</td>\n",
       "      <td>21.439132</td>\n",
       "      <td>8.844703</td>\n",
       "      <td>50.625152</td>\n",
       "    </tr>\n",
       "    <tr>\n",
       "      <th>min</th>\n",
       "      <td>20.000000</td>\n",
       "      <td>15.400000</td>\n",
       "      <td>160.000000</td>\n",
       "      <td>36.260000</td>\n",
       "    </tr>\n",
       "    <tr>\n",
       "      <th>25%</th>\n",
       "      <td>34.000000</td>\n",
       "      <td>61.700000</td>\n",
       "      <td>167.000000</td>\n",
       "      <td>166.345000</td>\n",
       "    </tr>\n",
       "    <tr>\n",
       "      <th>50%</th>\n",
       "      <td>49.000000</td>\n",
       "      <td>75.500000</td>\n",
       "      <td>175.000000</td>\n",
       "      <td>199.455000</td>\n",
       "    </tr>\n",
       "    <tr>\n",
       "      <th>75%</th>\n",
       "      <td>65.000000</td>\n",
       "      <td>90.200000</td>\n",
       "      <td>183.000000</td>\n",
       "      <td>233.785000</td>\n",
       "    </tr>\n",
       "    <tr>\n",
       "      <th>max</th>\n",
       "      <td>79.000000</td>\n",
       "      <td>158.100000</td>\n",
       "      <td>190.000000</td>\n",
       "      <td>372.670000</td>\n",
       "    </tr>\n",
       "  </tbody>\n",
       "</table>\n",
       "</div>"
      ],
      "text/plain": [
       "            idade        peso      altura   colesterol\n",
       "count  997.000000  997.000000  997.000000  1000.000000\n",
       "mean    49.206620   76.496690  174.889669   199.453260\n",
       "std     17.476704   21.439132    8.844703    50.625152\n",
       "min     20.000000   15.400000  160.000000    36.260000\n",
       "25%     34.000000   61.700000  167.000000   166.345000\n",
       "50%     49.000000   75.500000  175.000000   199.455000\n",
       "75%     65.000000   90.200000  183.000000   233.785000\n",
       "max     79.000000  158.100000  190.000000   372.670000"
      ]
     },
     "execution_count": 38,
     "metadata": {},
     "output_type": "execute_result"
    }
   ],
   "source": [
    "# Medidas estatísticas do DF\n",
    "df_eda.describe()"
   ]
  },
  {
   "cell_type": "code",
   "execution_count": 39,
   "metadata": {},
   "outputs": [],
   "source": [
    "# Coletar medidas das variáveis categóricas\n",
    "moda_grupo_sanguineo = df_eda.grupo_sanguineo.mode()\n",
    "moda_nivel_atividade = df_eda.nivel_atividade.mode()\n",
    "moda_fumante = df_eda.fumante.mode()\n"
   ]
  },
  {
   "cell_type": "code",
   "execution_count": 40,
   "metadata": {},
   "outputs": [],
   "source": [
    "# Coletar medidas das variáveis númericas\n",
    "mediana_idade = df_eda.idade.median()\n",
    "mediana_peso = df_eda.peso.median()\n",
    "mediana_altura = df_eda.altura.median()\n"
   ]
  },
  {
   "cell_type": "code",
   "execution_count": 41,
   "metadata": {},
   "outputs": [
    {
     "data": {
      "text/plain": [
       "grupo_sanguineo    0\n",
       "fumante            0\n",
       "nivel_atividade    0\n",
       "idade              0\n",
       "peso               0\n",
       "altura             0\n",
       "colesterol         0\n",
       "dtype: int64"
      ]
     },
     "execution_count": 41,
     "metadata": {},
     "output_type": "execute_result"
    }
   ],
   "source": [
    "# Inputar valores ausentes\n",
    "df_eda.fillna(value={'grupo_sanguineo' : moda_grupo_sanguineo[0], \n",
    "                            'nivel_atividade' : moda_nivel_atividade[0],\n",
    "                            'fumante' : moda_fumante[0],\n",
    "                            'idade' : mediana_idade,\n",
    "                            'peso' : mediana_peso,\n",
    "                            'altura' : mediana_altura}, inplace=True)\n",
    "df_eda.isna().sum()"
   ]
  },
  {
   "cell_type": "code",
   "execution_count": 44,
   "metadata": {},
   "outputs": [
    {
     "name": "stdout",
     "output_type": "stream",
     "text": [
      "<class 'pandas.core.frame.DataFrame'>\n",
      "RangeIndex: 1000 entries, 0 to 999\n",
      "Data columns (total 7 columns):\n",
      " #   Column           Non-Null Count  Dtype  \n",
      "---  ------           --------------  -----  \n",
      " 0   grupo_sanguineo  1000 non-null   object \n",
      " 1   fumante          1000 non-null   object \n",
      " 2   nivel_atividade  1000 non-null   object \n",
      " 3   idade            1000 non-null   int64  \n",
      " 4   peso             1000 non-null   float64\n",
      " 5   altura           1000 non-null   int64  \n",
      " 6   colesterol       1000 non-null   float64\n",
      "dtypes: float64(2), int64(2), object(3)\n",
      "memory usage: 54.8+ KB\n"
     ]
    }
   ],
   "source": [
    "# Converter idade e altura para inteiro\n",
    "df_eda.idade = df_eda.idade.astype(int)\n",
    "df_eda.altura = df_eda.altura.astype(int)\n",
    "df_eda.info()"
   ]
  },
  {
   "cell_type": "code",
   "execution_count": 45,
   "metadata": {},
   "outputs": [
    {
     "data": {
      "text/html": [
       "<div>\n",
       "<style scoped>\n",
       "    .dataframe tbody tr th:only-of-type {\n",
       "        vertical-align: middle;\n",
       "    }\n",
       "\n",
       "    .dataframe tbody tr th {\n",
       "        vertical-align: top;\n",
       "    }\n",
       "\n",
       "    .dataframe thead th {\n",
       "        text-align: right;\n",
       "    }\n",
       "</style>\n",
       "<table border=\"1\" class=\"dataframe\">\n",
       "  <thead>\n",
       "    <tr style=\"text-align: right;\">\n",
       "      <th></th>\n",
       "      <th>grupo_sanguineo</th>\n",
       "      <th>fumante</th>\n",
       "      <th>nivel_atividade</th>\n",
       "      <th>idade</th>\n",
       "      <th>peso</th>\n",
       "      <th>altura</th>\n",
       "      <th>colesterol</th>\n",
       "    </tr>\n",
       "  </thead>\n",
       "  <tbody>\n",
       "    <tr>\n",
       "      <th>0</th>\n",
       "      <td>B</td>\n",
       "      <td>Sim</td>\n",
       "      <td>Baixo</td>\n",
       "      <td>33</td>\n",
       "      <td>85.1</td>\n",
       "      <td>186</td>\n",
       "      <td>199.63</td>\n",
       "    </tr>\n",
       "    <tr>\n",
       "      <th>1</th>\n",
       "      <td>A</td>\n",
       "      <td>Não</td>\n",
       "      <td>Moderado</td>\n",
       "      <td>68</td>\n",
       "      <td>105.0</td>\n",
       "      <td>184</td>\n",
       "      <td>236.98</td>\n",
       "    </tr>\n",
       "    <tr>\n",
       "      <th>2</th>\n",
       "      <td>O</td>\n",
       "      <td>Não</td>\n",
       "      <td>Alto</td>\n",
       "      <td>25</td>\n",
       "      <td>64.8</td>\n",
       "      <td>180</td>\n",
       "      <td>161.79</td>\n",
       "    </tr>\n",
       "    <tr>\n",
       "      <th>3</th>\n",
       "      <td>A</td>\n",
       "      <td>Não</td>\n",
       "      <td>Alto</td>\n",
       "      <td>43</td>\n",
       "      <td>120.2</td>\n",
       "      <td>167</td>\n",
       "      <td>336.24</td>\n",
       "    </tr>\n",
       "    <tr>\n",
       "      <th>4</th>\n",
       "      <td>AB</td>\n",
       "      <td>Não</td>\n",
       "      <td>Baixo</td>\n",
       "      <td>79</td>\n",
       "      <td>88.5</td>\n",
       "      <td>175</td>\n",
       "      <td>226.23</td>\n",
       "    </tr>\n",
       "    <tr>\n",
       "      <th>5</th>\n",
       "      <td>B</td>\n",
       "      <td>Não</td>\n",
       "      <td>Baixo</td>\n",
       "      <td>68</td>\n",
       "      <td>66.8</td>\n",
       "      <td>170</td>\n",
       "      <td>185.31</td>\n",
       "    </tr>\n",
       "    <tr>\n",
       "      <th>6</th>\n",
       "      <td>A</td>\n",
       "      <td>Sim</td>\n",
       "      <td>Baixo</td>\n",
       "      <td>60</td>\n",
       "      <td>117.3</td>\n",
       "      <td>181</td>\n",
       "      <td>289.33</td>\n",
       "    </tr>\n",
       "    <tr>\n",
       "      <th>7</th>\n",
       "      <td>O</td>\n",
       "      <td>Sim</td>\n",
       "      <td>Moderado</td>\n",
       "      <td>35</td>\n",
       "      <td>86.9</td>\n",
       "      <td>174</td>\n",
       "      <td>216.48</td>\n",
       "    </tr>\n",
       "    <tr>\n",
       "      <th>8</th>\n",
       "      <td>O</td>\n",
       "      <td>Não</td>\n",
       "      <td>Baixo</td>\n",
       "      <td>62</td>\n",
       "      <td>81.3</td>\n",
       "      <td>166</td>\n",
       "      <td>235.30</td>\n",
       "    </tr>\n",
       "    <tr>\n",
       "      <th>9</th>\n",
       "      <td>B</td>\n",
       "      <td>Sim</td>\n",
       "      <td>Alto</td>\n",
       "      <td>44</td>\n",
       "      <td>32.7</td>\n",
       "      <td>165</td>\n",
       "      <td>97.79</td>\n",
       "    </tr>\n",
       "  </tbody>\n",
       "</table>\n",
       "</div>"
      ],
      "text/plain": [
       "  grupo_sanguineo fumante nivel_atividade  idade   peso  altura  colesterol\n",
       "0               B     Sim           Baixo     33   85.1     186      199.63\n",
       "1               A     Não        Moderado     68  105.0     184      236.98\n",
       "2               O     Não            Alto     25   64.8     180      161.79\n",
       "3               A     Não            Alto     43  120.2     167      336.24\n",
       "4              AB     Não           Baixo     79   88.5     175      226.23\n",
       "5               B     Não           Baixo     68   66.8     170      185.31\n",
       "6               A     Sim           Baixo     60  117.3     181      289.33\n",
       "7               O     Sim        Moderado     35   86.9     174      216.48\n",
       "8               O     Não           Baixo     62   81.3     166      235.30\n",
       "9               B     Sim            Alto     44   32.7     165       97.79"
      ]
     },
     "execution_count": 45,
     "metadata": {},
     "output_type": "execute_result"
    }
   ],
   "source": [
    "df_eda.head(10)"
   ]
  },
  {
   "cell_type": "code",
   "execution_count": 47,
   "metadata": {},
   "outputs": [
    {
     "data": {
      "text/plain": [
       "<Axes: ylabel='idade'>"
      ]
     },
     "execution_count": 47,
     "metadata": {},
     "output_type": "execute_result"
    },
    {
     "data": {
      "image/png": "[encoded data removed]",
      "text/plain": [
       "<Figure size 640x480 with 1 Axes>"
      ]
     },
     "metadata": {},
     "output_type": "display_data"
    }
   ],
   "source": [
    "# Detectar outliers\n",
    "sns.boxplot(data=df_eda, y='idade')"
   ]
  },
  {
   "cell_type": "code",
   "execution_count": 48,
   "metadata": {},
   "outputs": [
    {
     "data": {
      "text/plain": [
       "<Axes: ylabel='peso'>"
      ]
     },
     "execution_count": 48,
     "metadata": {},
     "output_type": "execute_result"
    },
    {
     "data": {
      "image/png": "[encoded data removed]",
      "text/plain": [
       "<Figure size 640x480 with 1 Axes>"
      ]
     },
     "metadata": {},
     "output_type": "display_data"
    }
   ],
   "source": [
    "sns.boxplot(data=df_eda, y='peso')"
   ]
  },
  {
   "cell_type": "code",
   "execution_count": 49,
   "metadata": {},
   "outputs": [
    {
     "data": {
      "text/plain": [
       "np.int64(37)"
      ]
     },
     "execution_count": 49,
     "metadata": {},
     "output_type": "execute_result"
    }
   ],
   "source": [
    "# Filtrar o público a ser removido\n",
    "df_eda[df_eda['peso'] < 40].peso.count()"
   ]
  },
  {
   "cell_type": "code",
   "execution_count": null,
   "metadata": {},
   "outputs": [],
   "source": [
    "# Remover público do DF\n",
    "df_eda.drop(df_eda[df_eda['peso'] < 40].peso.index)"
   ]
  }
 ],
 "metadata": {
  "kernelspec": {
   "display_name": "reg_lin_multipla-W97Q9whX",
   "language": "python",
   "name": "python3"
  },
  "language_info": {
   "codemirror_mode": {
    "name": "ipython",
    "version": 3
   },
   "file_extension": ".py",
   "mimetype": "text/x-python",
   "name": "python",
   "nbconvert_exporter": "python",
   "pygments_lexer": "ipython3",
   "version": "3.9.15"
  }
 },
 "nbformat": 4,
 "nbformat_minor": 2
}
