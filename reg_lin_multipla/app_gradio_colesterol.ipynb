{
 "cells": [
  {
   "cell_type": "code",
   "execution_count": 46,
   "metadata": {},
   "outputs": [],
   "source": [
    "import gradio as gr\n",
    "import joblib \n",
    "import pandas as pd"
   ]
  },
  {
   "cell_type": "code",
   "execution_count": 47,
   "metadata": {},
   "outputs": [],
   "source": [
    "modelo = joblib.load('./modelo_colesterol.pkl')"
   ]
  },
  {
   "cell_type": "code",
   "execution_count": 48,
   "metadata": {},
   "outputs": [],
   "source": [
    "def predict(grupo_sanguineo, fumante, nivel_atividade, idade, peso, altura):\n",
    "    predicao_individual = {\n",
    "        'grupo_sanguineo' : grupo_sanguineo,\n",
    "        'fumante' : fumante,\n",
    "        'nivel_atividade' : nivel_atividade,\n",
    "        'idade' : idade,\n",
    "        'peso' : peso,\n",
    "        'altura' : altura\n",
    "    }\n",
    "    predict_df = pd.DataFrame(predicao_individual, index=[1])\n",
    "    colesterol = modelo.predict(predict_df)\n",
    "    return round(colesterol[0], 2)"
   ]
  },
  {
   "cell_type": "code",
   "execution_count": 49,
   "metadata": {},
   "outputs": [],
   "source": [
    "demo = gr.Interface(\n",
    "    fn = predict,\n",
    "    inputs = [\n",
    "        gr.Radio(['O', 'A', 'B', 'AB']),\n",
    "        'checkbox',\n",
    "        gr.Radio(['Baixo', 'Moderado', 'Alto']),\n",
    "        gr.Slider(18, 80, step=1),\n",
    "        gr.Slider(40, 160, step=0.1),\n",
    "        gr.Slider(150, 200, step=1)],\n",
    "    outputs=['number']\n",
    ")"
   ]
  },
  {
   "cell_type": "code",
   "execution_count": 50,
   "metadata": {},
   "outputs": [
    {
     "name": "stdout",
     "output_type": "stream",
     "text": [
      "Running on local URL:  http://127.0.0.1:7868\n",
      "\n",
      "To create a public link, set `share=True` in `launch()`.\n"
     ]
    },
    {
     "data": {
      "text/html": [
       "<div><iframe src=\"http://127.0.0.1:7868/\" width=\"100%\" height=\"500\" allow=\"autoplay; camera; microphone; clipboard-read; clipboard-write;\" frameborder=\"0\" allowfullscreen></iframe></div>"
      ],
      "text/plain": [
       "<IPython.core.display.HTML object>"
      ]
     },
     "metadata": {},
     "output_type": "display_data"
    },
    {
     "data": {
      "text/plain": []
     },
     "execution_count": 50,
     "metadata": {},
     "output_type": "execute_result"
    }
   ],
   "source": [
    "demo.launch()"
   ]
  }
 ],
 "metadata": {
  "kernelspec": {
   "display_name": "reg_lin_multipla-W97Q9whX",
   "language": "python",
   "name": "python3"
  },
  "language_info": {
   "codemirror_mode": {
    "name": "ipython",
    "version": 3
   },
   "file_extension": ".py",
   "mimetype": "text/x-python",
   "name": "python",
   "nbconvert_exporter": "python",
   "pygments_lexer": "ipython3",
   "version": "3.9.15"
  }
 },
 "nbformat": 4,
 "nbformat_minor": 2
}
